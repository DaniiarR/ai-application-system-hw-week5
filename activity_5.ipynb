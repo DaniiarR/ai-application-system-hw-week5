{
  "nbformat": 4,
  "nbformat_minor": 0,
  "metadata": {
    "colab": {
      "provenance": [],
      "authorship_tag": "ABX9TyOo3GNVq/Y2cLLIpkuvmO7F",
      "include_colab_link": true
    },
    "kernelspec": {
      "name": "python3",
      "display_name": "Python 3"
    },
    "language_info": {
      "name": "python"
    }
  },
  "cells": [
    {
      "cell_type": "markdown",
      "metadata": {
        "id": "view-in-github",
        "colab_type": "text"
      },
      "source": [
        "<a href=\"https://colab.research.google.com/github/DaniiarR/ai-application-system-hw-week5/blob/main/activity_5.ipynb\" target=\"_parent\"><img src=\"https://colab.research.google.com/assets/colab-badge.svg\" alt=\"Open In Colab\"/></a>"
      ]
    },
    {
      "cell_type": "code",
      "execution_count": 2,
      "metadata": {
        "id": "TAwDvrHAvikg"
      },
      "outputs": [],
      "source": [
        "import tensorflow as tf\n",
        "from keras import layers, models"
      ]
    },
    {
      "cell_type": "code",
      "source": [
        "mnist = tf.keras.datasets.mnist\n",
        "(train_images, train_labels), (test_images, test_labels) = mnist.load_data()\n",
        "\n",
        "train_images = train_images / 255.0\n",
        "test_images = test_images / 255.0"
      ],
      "metadata": {
        "colab": {
          "base_uri": "https://localhost:8080/"
        },
        "id": "6EK5XpCWvlOU",
        "outputId": "a1c76803-53bf-4119-c50f-bc954495b25f"
      },
      "execution_count": 3,
      "outputs": [
        {
          "output_type": "stream",
          "name": "stdout",
          "text": [
            "Downloading data from https://storage.googleapis.com/tensorflow/tf-keras-datasets/mnist.npz\n",
            "11490434/11490434 [==============================] - 0s 0us/step\n"
          ]
        }
      ]
    },
    {
      "cell_type": "code",
      "source": [
        "# Load and preprocess the MNIST dataset\n",
        "mnist = tf.keras.datasets.mnist\n",
        "(train_images, train_labels), (test_images, test_labels) = mnist.load_data()\n",
        "train_images, test_images = train_images / 255.0, test_images / 255.0\n",
        "\n",
        "# Reshape the data to fit the CNN model\n",
        "train_images = train_images.reshape(train_images.shape[0], 28, 28, 1)\n",
        "test_images = test_images.reshape(test_images.shape[0], 28, 28, 1)\n",
        "\n",
        "# Baseline Feedforward Neural Network Model\n",
        "baseline_model = tf.keras.Sequential([\n",
        "    tf.keras.layers.Flatten(input_shape=(28, 28)),\n",
        "    tf.keras.layers.Dense(128, activation='relu'),\n",
        "    tf.keras.layers.Dense(10, activation='softmax')\n",
        "])\n",
        "\n",
        "# Simple CNN Model\n",
        "cnn_model = tf.keras.Sequential([\n",
        "    tf.keras.layers.Conv2D(32, (3, 3), activation='relu', input_shape=(28, 28, 1)),\n",
        "    tf.keras.layers.MaxPooling2D((2, 2)),\n",
        "    tf.keras.layers.Flatten(),\n",
        "    tf.keras.layers.Dense(128, activation='relu'),\n",
        "    tf.keras.layers.Dense(10, activation='softmax')\n",
        "])\n",
        "\n",
        "# Compile both models\n",
        "baseline_model.compile(optimizer='adam',\n",
        "                       loss='sparse_categorical_crossentropy',\n",
        "                       metrics=['accuracy'])\n",
        "\n",
        "cnn_model.compile(optimizer='adam',\n",
        "                  loss='sparse_categorical_crossentropy',\n",
        "                  metrics=['accuracy'])\n",
        "\n",
        "# Train the models\n",
        "print(\"Training Baseline Model:\")\n",
        "baseline_model.fit(train_images, train_labels, epochs=5, batch_size=32)\n",
        "print(\"Training CNN Model:\")\n",
        "cnn_model.fit(train_images, train_labels, epochs=5, batch_size=32)\n",
        "\n",
        "# Evaluate the models\n",
        "baseline_loss, baseline_acc = baseline_model.evaluate(test_images, test_labels)\n",
        "cnn_loss, cnn_acc = cnn_model.evaluate(test_images, test_labels)\n",
        "\n",
        "print(f\"Baseline Model - Test accuracy: {baseline_acc}\")\n",
        "print(f\"CNN Model - Test accuracy: {cnn_acc}\")"
      ],
      "metadata": {
        "colab": {
          "base_uri": "https://localhost:8080/"
        },
        "id": "3Fz7B-H6v1HP",
        "outputId": "4045fbeb-e692-4ac3-b6f1-162cfc1887a2"
      },
      "execution_count": 4,
      "outputs": [
        {
          "output_type": "stream",
          "name": "stdout",
          "text": [
            "Training Baseline Model:\n",
            "Epoch 1/5\n",
            "1875/1875 [==============================] - 8s 4ms/step - loss: 0.2517 - accuracy: 0.9291\n",
            "Epoch 2/5\n",
            "1875/1875 [==============================] - 8s 4ms/step - loss: 0.1124 - accuracy: 0.9668\n",
            "Epoch 3/5\n",
            "1875/1875 [==============================] - 8s 4ms/step - loss: 0.0769 - accuracy: 0.9768\n",
            "Epoch 4/5\n",
            "1875/1875 [==============================] - 7s 4ms/step - loss: 0.0565 - accuracy: 0.9830\n",
            "Epoch 5/5\n",
            "1875/1875 [==============================] - 9s 5ms/step - loss: 0.0434 - accuracy: 0.9869\n",
            "Training CNN Model:\n",
            "Epoch 1/5\n",
            "1875/1875 [==============================] - 40s 21ms/step - loss: 0.1428 - accuracy: 0.9571\n",
            "Epoch 2/5\n",
            "1875/1875 [==============================] - 40s 21ms/step - loss: 0.0497 - accuracy: 0.9849\n",
            "Epoch 3/5\n",
            "1875/1875 [==============================] - 39s 21ms/step - loss: 0.0328 - accuracy: 0.9898\n",
            "Epoch 4/5\n",
            "1875/1875 [==============================] - 40s 21ms/step - loss: 0.0217 - accuracy: 0.9932\n",
            "Epoch 5/5\n",
            "1875/1875 [==============================] - 39s 21ms/step - loss: 0.0130 - accuracy: 0.9958\n",
            "313/313 [==============================] - 1s 2ms/step - loss: 0.0755 - accuracy: 0.9755\n",
            "313/313 [==============================] - 3s 8ms/step - loss: 0.0480 - accuracy: 0.9851\n",
            "Baseline Model - Test accuracy: 0.9754999876022339\n",
            "CNN Model - Test accuracy: 0.9850999712944031\n"
          ]
        }
      ]
    }
  ]
}