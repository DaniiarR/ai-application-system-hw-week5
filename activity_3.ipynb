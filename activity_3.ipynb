{
  "nbformat": 4,
  "nbformat_minor": 0,
  "metadata": {
    "colab": {
      "provenance": [],
      "authorship_tag": "ABX9TyMth1/Xp5d0c4UUPox4C0FG",
      "include_colab_link": true
    },
    "kernelspec": {
      "name": "python3",
      "display_name": "Python 3"
    },
    "language_info": {
      "name": "python"
    }
  },
  "cells": [
    {
      "cell_type": "markdown",
      "metadata": {
        "id": "view-in-github",
        "colab_type": "text"
      },
      "source": [
        "<a href=\"https://colab.research.google.com/github/DaniiarR/ai-application-system-hw-week5/blob/main/activity_3.ipynb\" target=\"_parent\"><img src=\"https://colab.research.google.com/assets/colab-badge.svg\" alt=\"Open In Colab\"/></a>"
      ]
    },
    {
      "cell_type": "code",
      "execution_count": 2,
      "metadata": {
        "id": "ontMLTBvtYz2"
      },
      "outputs": [],
      "source": [
        "import tensorflow as tf"
      ]
    },
    {
      "cell_type": "code",
      "source": [
        "mnist = tf.keras.datasets.mnist\n",
        "(train_images, train_labels), (test_images, test_labels) = mnist.load_data()\n",
        "\n",
        "train_images = train_images / 255.0\n",
        "test_images = test_images / 255.0"
      ],
      "metadata": {
        "colab": {
          "base_uri": "https://localhost:8080/"
        },
        "id": "58XMmM5Btzq_",
        "outputId": "1169a19e-cac8-4643-c91e-64252477299d"
      },
      "execution_count": 4,
      "outputs": [
        {
          "output_type": "stream",
          "name": "stdout",
          "text": [
            "Downloading data from https://storage.googleapis.com/tensorflow/tf-keras-datasets/mnist.npz\n",
            "11490434/11490434 [==============================] - 0s 0us/step\n"
          ]
        }
      ]
    },
    {
      "cell_type": "code",
      "source": [
        "# Define the baseline model\n",
        "baseline_model = tf.keras.Sequential([\n",
        "    tf.keras.layers.Flatten(input_shape=(28, 28)),\n",
        "    tf.keras.layers.Dense(128, activation='relu'),\n",
        "    tf.keras.layers.Dense(10, activation='softmax')\n",
        "])\n",
        "\n",
        "# Add dropout layer to the baseline model\n",
        "dropout_model = tf.keras.Sequential([\n",
        "    tf.keras.layers.Flatten(input_shape=(28, 28)),\n",
        "    tf.keras.layers.Dropout(0.3),  # 30% dropout rate, you can adjust this as needed\n",
        "    tf.keras.layers.Dense(128, activation='relu'),\n",
        "    tf.keras.layers.Dropout(0.3),\n",
        "    tf.keras.layers.Dense(10, activation='softmax')\n",
        "])\n",
        "\n",
        "# Compile both models\n",
        "baseline_model.compile(optimizer='adam',\n",
        "                       loss='sparse_categorical_crossentropy',\n",
        "                       metrics=['accuracy'])\n",
        "\n",
        "dropout_model.compile(optimizer='adam',\n",
        "                      loss='sparse_categorical_crossentropy',\n",
        "                      metrics=['accuracy'])\n",
        "\n",
        "# Train the models\n",
        "print(\"Training Baseline Model:\")\n",
        "baseline_model.fit(train_images, train_labels, epochs=5, batch_size=32)\n",
        "print(\"Training Dropout Regularized Model:\")\n",
        "dropout_model.fit(train_images, train_labels, epochs=5, batch_size=32)\n",
        "\n",
        "# Evaluate the models\n",
        "baseline_loss, baseline_acc = baseline_model.evaluate(test_images, test_labels)\n",
        "dropout_loss, dropout_acc = dropout_model.evaluate(test_images, test_labels)\n",
        "\n",
        "print(f\"Baseline Model - Test accuracy: {baseline_acc}\")\n",
        "print(f\"Dropout Regularized Model - Test accuracy: {dropout_acc}\")"
      ],
      "metadata": {
        "colab": {
          "base_uri": "https://localhost:8080/"
        },
        "id": "rP900SX4thwm",
        "outputId": "d438c689-7e67-4264-bfbb-105508783e49"
      },
      "execution_count": 5,
      "outputs": [
        {
          "output_type": "stream",
          "name": "stdout",
          "text": [
            "Training Baseline Model:\n",
            "Epoch 1/5\n",
            "1875/1875 [==============================] - 7s 3ms/step - loss: 0.2593 - accuracy: 0.9254\n",
            "Epoch 2/5\n",
            "1875/1875 [==============================] - 7s 4ms/step - loss: 0.1162 - accuracy: 0.9661\n",
            "Epoch 3/5\n",
            "1875/1875 [==============================] - 6s 3ms/step - loss: 0.0784 - accuracy: 0.9763\n",
            "Epoch 4/5\n",
            "1875/1875 [==============================] - 8s 4ms/step - loss: 0.0592 - accuracy: 0.9814\n",
            "Epoch 5/5\n",
            "1875/1875 [==============================] - 6s 3ms/step - loss: 0.0456 - accuracy: 0.9859\n",
            "Training Dropout Regularized Model:\n",
            "Epoch 1/5\n",
            "1875/1875 [==============================] - 9s 4ms/step - loss: 0.4110 - accuracy: 0.8759\n",
            "Epoch 2/5\n",
            "1875/1875 [==============================] - 9s 5ms/step - loss: 0.2303 - accuracy: 0.9301\n",
            "Epoch 3/5\n",
            "1875/1875 [==============================] - 8s 4ms/step - loss: 0.1928 - accuracy: 0.9403\n",
            "Epoch 4/5\n",
            "1875/1875 [==============================] - 8s 5ms/step - loss: 0.1683 - accuracy: 0.9486\n",
            "Epoch 5/5\n",
            "1875/1875 [==============================] - 8s 4ms/step - loss: 0.1549 - accuracy: 0.9521\n",
            "313/313 [==============================] - 1s 2ms/step - loss: 0.0722 - accuracy: 0.9777\n",
            "313/313 [==============================] - 1s 2ms/step - loss: 0.0851 - accuracy: 0.9740\n",
            "Baseline Model - Test accuracy: 0.9776999950408936\n",
            "Dropout Regularized Model - Test accuracy: 0.9739999771118164\n"
          ]
        }
      ]
    },
    {
      "cell_type": "code",
      "source": [
        "from keras import regularizers\n",
        "\n",
        "# Add L2 regularization to the dense layers of the model\n",
        "l2_model = tf.keras.Sequential([\n",
        "    tf.keras.layers.Flatten(input_shape=(28, 28)),\n",
        "    tf.keras.layers.Dense(128, activation='relu', kernel_regularizer=regularizers.l2(0.01)),  # L2 regularization with a factor of 0.01\n",
        "    tf.keras.layers.Dense(10, activation='softmax', kernel_regularizer=regularizers.l2(0.01))\n",
        "])\n",
        "\n",
        "# Compile the L2 regularized model\n",
        "l2_model.compile(optimizer='adam',\n",
        "                 loss='sparse_categorical_crossentropy',\n",
        "                 metrics=['accuracy'])\n",
        "\n",
        "# Train the L2 regularized model\n",
        "print(\"Training L2 Regularized Model:\")\n",
        "l2_model.fit(train_images, train_labels, epochs=5, batch_size=32)\n",
        "\n",
        "# Evaluate the L2 regularized model\n",
        "l2_loss, l2_acc = l2_model.evaluate(test_images, test_labels)\n",
        "print(f\"L2 Regularized Model - Test accuracy: {l2_acc}\")\n"
      ],
      "metadata": {
        "colab": {
          "base_uri": "https://localhost:8080/"
        },
        "id": "3PmYVqhguGyv",
        "outputId": "fee2f590-7b85-4257-cc76-a6773350dfb4"
      },
      "execution_count": 6,
      "outputs": [
        {
          "output_type": "stream",
          "name": "stdout",
          "text": [
            "Training L2 Regularized Model:\n",
            "Epoch 1/5\n",
            "1875/1875 [==============================] - 7s 3ms/step - loss: 0.8757 - accuracy: 0.8848\n",
            "Epoch 2/5\n",
            "1875/1875 [==============================] - 8s 4ms/step - loss: 0.7424 - accuracy: 0.8999\n",
            "Epoch 3/5\n",
            "1875/1875 [==============================] - 6s 3ms/step - loss: 0.7332 - accuracy: 0.9011\n",
            "Epoch 4/5\n",
            "1875/1875 [==============================] - 7s 4ms/step - loss: 0.7305 - accuracy: 0.9018\n",
            "Epoch 5/5\n",
            "1875/1875 [==============================] - 7s 4ms/step - loss: 0.7267 - accuracy: 0.9036\n",
            "313/313 [==============================] - 1s 2ms/step - loss: 0.7052 - accuracy: 0.9125\n",
            "L2 Regularized Model - Test accuracy: 0.9125000238418579\n"
          ]
        }
      ]
    },
    {
      "cell_type": "markdown",
      "source": [
        "In this code, we first define a baseline model without any regularization techniques. Then, we create a dropout regularized model with dropout layers added. After training both models, we evaluate their performance. Next, we implement L2 regularization by adding kernel_regularizer=regularizers.l2(0.01) to the dense layers. After training, we evaluate the L2 regularized model as well."
      ],
      "metadata": {
        "id": "3YhR2mkaulOx"
      }
    }
  ]
}