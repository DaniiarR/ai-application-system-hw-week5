{
  "nbformat": 4,
  "nbformat_minor": 0,
  "metadata": {
    "colab": {
      "provenance": [],
      "authorship_tag": "ABX9TyPGmufHWxKzrtbfjgC3r4Kc",
      "include_colab_link": true
    },
    "kernelspec": {
      "name": "python3",
      "display_name": "Python 3"
    },
    "language_info": {
      "name": "python"
    }
  },
  "cells": [
    {
      "cell_type": "markdown",
      "metadata": {
        "id": "view-in-github",
        "colab_type": "text"
      },
      "source": [
        "<a href=\"https://colab.research.google.com/github/DaniiarR/ai-application-system-hw-week5/blob/main/activity_4.ipynb\" target=\"_parent\"><img src=\"https://colab.research.google.com/assets/colab-badge.svg\" alt=\"Open In Colab\"/></a>"
      ]
    },
    {
      "cell_type": "code",
      "execution_count": 1,
      "metadata": {
        "id": "JyGKwgTgu1fY"
      },
      "outputs": [],
      "source": [
        "import tensorflow as tf\n",
        "from sklearn.metrics import classification_report"
      ]
    },
    {
      "cell_type": "code",
      "source": [
        "mnist = tf.keras.datasets.mnist\n",
        "(train_images, train_labels), (test_images, test_labels) = mnist.load_data()\n",
        "\n",
        "train_images = train_images / 255.0\n",
        "test_images = test_images / 255.0"
      ],
      "metadata": {
        "colab": {
          "base_uri": "https://localhost:8080/"
        },
        "id": "rfpj5P4ku9Mb",
        "outputId": "8f274ddb-3734-4511-fbb4-c1890846ff38"
      },
      "execution_count": 2,
      "outputs": [
        {
          "output_type": "stream",
          "name": "stdout",
          "text": [
            "Downloading data from https://storage.googleapis.com/tensorflow/tf-keras-datasets/mnist.npz\n",
            "11490434/11490434 [==============================] - 0s 0us/step\n"
          ]
        }
      ]
    },
    {
      "cell_type": "code",
      "source": [
        "# Build the model\n",
        "model = tf.keras.Sequential([\n",
        "    tf.keras.layers.Flatten(input_shape=(28, 28)),\n",
        "    tf.keras.layers.Dense(128, activation='relu'),\n",
        "    tf.keras.layers.Dense(10, activation='softmax')\n",
        "])\n",
        "\n",
        "# Compile the model\n",
        "model.compile(optimizer='adam',\n",
        "              loss='sparse_categorical_crossentropy',\n",
        "              metrics=['accuracy'])"
      ],
      "metadata": {
        "id": "LimCxtAwvSgE"
      },
      "execution_count": 4,
      "outputs": []
    },
    {
      "cell_type": "code",
      "source": [
        "predictions = model.predict(test_images)\n",
        "predicted_labels = tf.argmax(predictions, axis=1).numpy()\n",
        "\n",
        "# Calculate precision, recall, and F1-score\n",
        "precision = tf.keras.metrics.Precision()(test_labels, predicted_labels)\n",
        "recall = tf.keras.metrics.Recall()(test_labels, predicted_labels)\n",
        "f1_score = 2 * (precision * recall) / (precision + recall)\n",
        "\n",
        "print(f'Precision: {precision.numpy()}')\n",
        "print(f'Recall: {recall.numpy()}')\n",
        "print(f'F1-score: {f1_score.numpy()}')\n",
        "\n",
        "# Alternatively, you can use scikit-learn's classification_report for a detailed report\n",
        "print(classification_report(test_labels, predicted_labels))"
      ],
      "metadata": {
        "colab": {
          "base_uri": "https://localhost:8080/"
        },
        "id": "EYhRq-wNvCNR",
        "outputId": "d904b21f-f4e8-46e0-ba13-da0e2a8ccdc1"
      },
      "execution_count": 5,
      "outputs": [
        {
          "output_type": "stream",
          "name": "stdout",
          "text": [
            "313/313 [==============================] - 0s 1ms/step\n",
            "Precision: 0.9113950133323669\n",
            "Recall: 0.9886918067932129\n",
            "F1-score: 0.9484711289405823\n",
            "              precision    recall  f1-score   support\n",
            "\n",
            "           0       0.53      0.12      0.19       980\n",
            "           1       0.02      0.01      0.02      1135\n",
            "           2       0.08      0.20      0.11      1032\n",
            "           3       0.13      0.25      0.17      1010\n",
            "           4       0.08      0.23      0.12       982\n",
            "           5       0.03      0.00      0.01       892\n",
            "           6       0.17      0.22      0.19       958\n",
            "           7       0.07      0.02      0.03      1028\n",
            "           8       0.47      0.01      0.02       974\n",
            "           9       0.09      0.03      0.04      1009\n",
            "\n",
            "    accuracy                           0.11     10000\n",
            "   macro avg       0.17      0.11      0.09     10000\n",
            "weighted avg       0.16      0.11      0.09     10000\n",
            "\n"
          ]
        }
      ]
    }
  ]
}